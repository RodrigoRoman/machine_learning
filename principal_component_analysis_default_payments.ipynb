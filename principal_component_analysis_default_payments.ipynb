{
  "nbformat": 4,
  "nbformat_minor": 0,
  "metadata": {
    "colab": {
      "provenance": [],
      "collapsed_sections": [],
      "include_colab_link": true
    },
    "kernelspec": {
      "name": "python3",
      "display_name": "Python 3"
    }
  },
  "cells": [
    {
      "cell_type": "markdown",
      "metadata": {
        "id": "view-in-github",
        "colab_type": "text"
      },
      "source": [
        "<a href=\"https://colab.research.google.com/github/RodrigoRoman/machine_learning_abc/blob/main/principal_component_analysis_default_payments.ipynb\" target=\"_parent\"><img src=\"https://colab.research.google.com/assets/colab-badge.svg\" alt=\"Open In Colab\"/></a>"
      ]
    },
    {
      "cell_type": "markdown",
      "metadata": {
        "id": "VQ3syspj_rKn"
      },
      "source": [
        "# Principal Component Analysis (PCA)"
      ]
    },
    {
      "cell_type": "markdown",
      "metadata": {
        "id": "xJGl9TcT_skx"
      },
      "source": [
        "## Importing the libraries"
      ]
    },
    {
      "cell_type": "code",
      "metadata": {
        "id": "BNEgrGwd_29D"
      },
      "source": [
        "import numpy as np\n",
        "import matplotlib.pyplot as plt\n",
        "import pandas as pd"
      ],
      "execution_count": 14,
      "outputs": []
    },
    {
      "cell_type": "markdown",
      "metadata": {
        "id": "Hyp1gza1_6qX"
      },
      "source": [
        "## Importing the dataset"
      ]
    },
    {
      "cell_type": "code",
      "metadata": {
        "id": "lPLTDBVI__ZQ"
      },
      "source": [
        "path = 'https://raw.githubusercontent.com/PosgradoMNA/Actividades_Aprendizaje-/main/default%20of%20credit%20card%20clients.csv'\n",
        "dataset = pd.read_csv(path)\n"
      ],
      "execution_count": 24,
      "outputs": []
    },
    {
      "cell_type": "markdown",
      "source": [
        "<h3>Cleaning the data</h3>"
      ],
      "metadata": {
        "id": "qqG8CsviUH4S"
      }
    },
    {
      "cell_type": "code",
      "source": [
        "from scipy import stats\n",
        "\n",
        "#instancia de base de datos que sera rellenada\n",
        "filledDataset = dataset.copy()\n",
        "\n",
        "for i in range(len(filledDataset.columns)):\n",
        "  #Tomamos una fraccion aleatorea de los valores para poder probar su normalidad\n",
        "  currentColumn = filledDataset.iloc[500:1000,i]\n",
        "  #Calculamos la prueba de Shapiro-Wilk para saber si la distribucion de los datos es normal\n",
        "  shapiro_test = stats.shapiro(currentColumn.to_numpy())\n",
        "\n",
        "  if(shapiro_test.pvalue > 0.05):\n",
        "      #Rellenamos los valores nulos con el promedio en caso de que la distribucion no sea normal\n",
        "      filledDataset.iloc[:,i].fillna(currentColumn.mean(),inplace = True)\n",
        "  else:     \n",
        "      #Rellenamos los valores nulos con la media en caso de que la distribucion no sea normal\n",
        "      filledDataset.iloc[:,i].fillna(currentColumn.median(),inplace = True)"
      ],
      "metadata": {
        "id": "ypghJYe6UO1B"
      },
      "execution_count": 25,
      "outputs": []
    },
    {
      "cell_type": "markdown",
      "metadata": {
        "id": "1wrHODfJAEiI"
      },
      "source": [
        "## Feature Scaling"
      ]
    },
    {
      "cell_type": "code",
      "metadata": {
        "id": "W-UCD7ezAJG2"
      },
      "source": [
        "from sklearn.preprocessing import StandardScaler\n",
        "from sklearn.decomposition import PCA\n",
        "\n",
        "#Escalar los datos con standarizacion\n",
        "sc = StandardScaler()\n",
        "scaledData = sc.fit_transform(filledDataset)\n",
        "\n",
        "#Realizamos la extraccion de componentes principales\n",
        "pca = PCA()\n",
        "pca.fit(scaledData)\n",
        "pcaData = pca.transform(scaledData)"
      ],
      "execution_count": 28,
      "outputs": []
    },
    {
      "cell_type": "markdown",
      "metadata": {
        "id": "S3i3lRiwASAX"
      },
      "source": [
        "<h2>Calular el porcentaje de variacion que aporta cada componente principal</h2>"
      ]
    },
    {
      "cell_type": "code",
      "metadata": {
        "id": "TAi_sSw9AVzI",
        "outputId": "3369de88-48d7-4d13-e45b-90a43c51a0e1",
        "colab": {
          "base_uri": "https://localhost:8080/",
          "height": 388
        }
      },
      "source": [
        "pcaVariations = np.round(pca.explained_variance_ratio_ *100,decimals = 2)\n",
        "\n",
        "#Generamos etiquetas para realizar una visualizacion de nuestros componentes principales\n",
        "labels = ['PC'+str(x) for x in range(1,len(pcaVariations)+1)]\n",
        "plt.figure(figsize=(15, 6))\n",
        "\n",
        "plt.bar(x=range(1,len(pcaVariations)+1),height = pcaVariations,tick_label = labels)\n",
        "plt.ylabel('Porcentaje de Varianza')\n",
        "plt.xlabel('Componentes Principales')\n",
        "plt.show()\n",
        "\n"
      ],
      "execution_count": 54,
      "outputs": [
        {
          "output_type": "display_data",
          "data": {
            "text/plain": [
              "<Figure size 1080x432 with 1 Axes>"
            ],
            "image/png": "[encoded data removed]"
          },
          "metadata": {
            "needs_background": "light"
          }
        }
      ]
    },
    {
      "cell_type": "markdown",
      "metadata": {
        "id": "UBx16JVLAuel"
      },
      "source": [
        "<h3>Plot de PCA</h3>"
      ]
    },
    {
      "cell_type": "code",
      "metadata": {
        "id": "XDQahsqTAy44",
        "outputId": "78844813-f239-4bd8-e70f-e6dc3720a10b",
        "colab": {
          "base_uri": "https://localhost:8080/",
          "height": 458
        }
      },
      "source": [
        "pcaDF = pd.DataFrame(pcaData,columns = labels)\n",
        "plt.figure(figsize=(7, 7))\n",
        "plt.scatter(pcaDF.PC1,pcaDF.PC2)\n",
        "plt.title('PCA Graph')\n",
        "plt.xlabel('PC1 - {0}%'.format(pcaVariations[0]))\n",
        "plt.ylabel('PC2 - {0}%'.format(pcaVariations[1]))\n",
        "plt.show()\n",
        "\n",
        "\n"
      ],
      "execution_count": 55,
      "outputs": [
        {
          "output_type": "display_data",
          "data": {
            "text/plain": [
              "<Figure size 504x504 with 1 Axes>"
            ],
            "image/png": "[encoded data removed]"
          },
          "metadata": {
            "needs_background": "light"
          }
        }
      ]
    }
  ]
}