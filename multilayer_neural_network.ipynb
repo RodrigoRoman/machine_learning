{
  "nbformat": 4,
  "nbformat_minor": 0,
  "metadata": {
    "colab": {
      "provenance": [],
      "authorship_tag": "ABX9TyOzy28jfs4dM+FfEVvgo3/b",
      "include_colab_link": true
    },
    "kernelspec": {
      "name": "python3",
      "display_name": "Python 3"
    },
    "language_info": {
      "name": "python"
    }
  },
  "cells": [
    {
      "cell_type": "markdown",
      "metadata": {
        "id": "view-in-github",
        "colab_type": "text"
      },
      "source": [
        "<a href=\"https://colab.research.google.com/github/RodrigoRoman/machine_learning_abc/blob/main/multilayer_neural_network.ipynb\" target=\"_parent\"><img src=\"https://colab.research.google.com/assets/colab-badge.svg\" alt=\"Open In Colab\"/></a>"
      ]
    },
    {
      "cell_type": "markdown",
      "source": [
        "#Activity 1a: Implementing a Multilayer Fully Connected Network using Numpy\n",
        "\n",
        "*   Instructions\n",
        "\n",
        " - Read and Understand the following Code: The provided starter code outlines the architecture of a Fully Connected Network designed to classify MNIST images. Go through the code to understand how each function and class is used to implement the network.\n",
        "\n",
        "  - Understand the Math: Make sure you understand the math operations implemented in the code, especially during the forward and backward passes. This will involve matrix multiplications, activation functions, loss computations, and backpropagation.\n",
        "\n",
        "* Experiment You are encouraged to play with the code, change any hyperparameters and train the model, you should be able to achieve over 95% accuracy on the test set without problems."
      ],
      "metadata": {
        "id": "dCe8MkUdlUOk"
      }
    },
    {
      "cell_type": "code",
      "execution_count": 26,
      "metadata": {
        "id": "dYX_ZBkIktHq"
      },
      "outputs": [],
      "source": [
        "import gzip\n",
        "import os\n",
        "from os.path import isfile, join\n",
        "import numpy as np\n",
        "import requests\n",
        "import matplotlib.pyplot as plt\n",
        "\n"
      ]
    },
    {
      "cell_type": "code",
      "source": [
        "from google.colab import drive\n",
        "drive.mount('/content/drive')"
      ],
      "metadata": {
        "colab": {
          "base_uri": "https://localhost:8080/"
        },
        "id": "kaBpMSAgpYsK",
        "outputId": "fa5f390a-962c-4287-c12b-f7899d1db333"
      },
      "execution_count": 27,
      "outputs": [
        {
          "output_type": "stream",
          "name": "stdout",
          "text": [
            "Drive already mounted at /content/drive; to attempt to forcibly remount, call drive.mount(\"/content/drive\", force_remount=True).\n"
          ]
        }
      ]
    },
    {
      "cell_type": "code",
      "source": [
        "import os\n",
        "mnist_path = \"/content/drive/My Drive/Colab Notebooks/mnist_raw/\"\n",
        "os.chdir(mnist_path)\n",
        "\n",
        "\n",
        "def list_files(mnist_path):\n",
        "    return [join(mnist_path,f) for f in os.listdir(mnist_path) if isfile(join(mnist_path, f))]\n",
        "\n",
        "for f in list_files(mnist_path):\n",
        "    print(f)\n"
      ],
      "metadata": {
        "colab": {
          "base_uri": "https://localhost:8080/"
        },
        "id": "ObNK2uK_mKvL",
        "outputId": "c39d9ce9-d39a-44fd-aa56-7015a9e71510"
      },
      "execution_count": 28,
      "outputs": [
        {
          "output_type": "stream",
          "name": "stdout",
          "text": [
            "/content/drive/My Drive/Colab Notebooks/mnist_raw/train-labels-idx1-ubyte.gz\n",
            "/content/drive/My Drive/Colab Notebooks/mnist_raw/t10k-labels-idx1-ubyte.gz\n",
            "/content/drive/My Drive/Colab Notebooks/mnist_raw/t10k-images-idx3-ubyte.gz\n",
            "/content/drive/My Drive/Colab Notebooks/mnist_raw/train-images-idx3-ubyte.gz\n"
          ]
        }
      ]
    },
    {
      "cell_type": "markdown",
      "source": [
        "\n",
        "Define a function get_images that will allow us to convert the data that comes from MNIST to data that we can use directly into numpy"
      ],
      "metadata": {
        "id": "S_LJpPIIsvHZ"
      }
    },
    {
      "cell_type": "code",
      "source": [
        "def get_images(mnist_path):\n",
        "  for f in list_files(mnist_path):\n",
        "    if 'train-images' in f:\n",
        "      with gzip.open(f,'rb') as data:\n",
        "        _= int.from_bytes(data.read(4),'big') #dummy read\n",
        "        num_images = int.from_bytes(data.read(4),'big')\n",
        "        rows = int.from_bytes(data.read(4),'big')\n",
        "        columns = int.from_bytes(data.read(4),'big')\n",
        "        train_images = data.read()\n",
        "        x_train = np.frombuffer(train_images,dtype=np.uint8)\n",
        "        x_train = x_train.reshape((num_images,rows,columns))\n",
        "    elif 'train-labels' in f:\n",
        "      with gzip.open(f,'rb') as data:\n",
        "        train_labels = data.read()[8::]\n",
        "        y_train = np.frombuffer(train_labels,dtype = np.uint8)\n",
        "    if 't10k-images' in f:\n",
        "      with gzip.open(f,'rb') as data:\n",
        "        _= int.from_bytes(data.read(4),'big') #dummy read\n",
        "        num_images = int.from_bytes(data.read(4),'big')\n",
        "        rows = int.from_bytes(data.read(4),'big')\n",
        "        columns = int.from_bytes(data.read(4),'big')\n",
        "        test_images = data.read()\n",
        "        x_test = np.frombuffer(test_images,dtype=np.uint8)\n",
        "        x_test = x_test.reshape((num_images,rows,columns))\n",
        "    elif 't10k-labels' in f:\n",
        "      with gzip.open(f,'rb') as data:\n",
        "        test_labels = data.read()[8::]\n",
        "        y_test= np.frombuffer(test_labels,dtype = np.uint8)\n",
        "\n",
        "  return x_train,y_train,x_test,y_test\n",
        "\n",
        "\n"
      ],
      "metadata": {
        "id": "qo4BScD3pPwg"
      },
      "execution_count": 29,
      "outputs": []
    },
    {
      "cell_type": "markdown",
      "source": [
        "Let's apply our get_images function to the MNIST data"
      ],
      "metadata": {
        "id": "QFiFa53GtVJq"
      }
    },
    {
      "cell_type": "code",
      "source": [
        "x_train_num,y_train_num,x_test_num,y_test_num = get_images(mnist_path)"
      ],
      "metadata": {
        "id": "uI3YKW6gtc6d"
      },
      "execution_count": 30,
      "outputs": []
    },
    {
      "cell_type": "markdown",
      "source": [
        "We check that our data corresponds to the specifications from the MNIST documentation"
      ],
      "metadata": {
        "id": "WQYFnBEeveA_"
      }
    },
    {
      "cell_type": "code",
      "source": [
        "print(x_train_num.shape)\n",
        "print(x_test_num.shape)\n",
        "print(y_train_num.shape)\n",
        "print(y_test_num.shape)"
      ],
      "metadata": {
        "colab": {
          "base_uri": "https://localhost:8080/"
        },
        "id": "uRT1j-j_u-c_",
        "outputId": "b1046786-22da-4d2c-c320-43c7e08055e4"
      },
      "execution_count": 31,
      "outputs": [
        {
          "output_type": "stream",
          "name": "stdout",
          "text": [
            "(60000, 28, 28)\n",
            "(10000, 28, 28)\n",
            "(60000,)\n",
            "(10000,)\n"
          ]
        }
      ]
    },
    {
      "cell_type": "markdown",
      "source": [],
      "metadata": {
        "id": "yvhzgYxyvdYo"
      }
    },
    {
      "cell_type": "markdown",
      "source": [
        "We can graph some instance numbers from our dataset"
      ],
      "metadata": {
        "id": "WJCpupUHvk2O"
      }
    },
    {
      "cell_type": "code",
      "source": [
        "def plot_number(image):\n",
        "  plt.imshow(image.squeeze(),cmap=plt.get_cmap('gray'))\n",
        "  plt.axis('off')\n",
        "\n",
        "rand_idx = np.random.randint(len(y_test_num))\n",
        "print(f'La imagen mostrada corresponse a un:{y_test_num[rand_idx]}')\n",
        "plot_number(x_test_num[rand_idx])\n"
      ],
      "metadata": {
        "colab": {
          "base_uri": "https://localhost:8080/",
          "height": 423
        },
        "id": "lFWdjkKFvuHX",
        "outputId": "f0b37d33-85cd-4ee7-d9fb-61e01b3aed6a"
      },
      "execution_count": 32,
      "outputs": [
        {
          "output_type": "stream",
          "name": "stdout",
          "text": [
            "La imagen mostrada corresponse a un:3\n"
          ]
        },
        {
          "output_type": "display_data",
          "data": {
            "text/plain": [
              "<Figure size 640x480 with 1 Axes>"
            ],
            "image/png": "[encoded data removed]"
          },
          "metadata": {}
        }
      ]
    },
    {
      "cell_type": "markdown",
      "source": [
        "# 2 layer neural network algorithm"
      ],
      "metadata": {
        "id": "5FmV2Xq5zaDO"
      }
    },
    {
      "cell_type": "markdown",
      "source": [
        "Convert images to vectors and float32"
      ],
      "metadata": {
        "id": "E2vNiMRXz9UH"
      }
    },
    {
      "cell_type": "code",
      "source": [
        "x_train = x_train_num[:50000].reshape(50000,-1).astype(np.float32)/255 # -1 is equivalent to 28X28 in this case\n",
        "y_train = y_train_num[:50000].reshape(50000,-1)\n",
        "\n",
        "x_val = x_train_num[50000:].reshape(10000,-1).astype(np.float32)/255\n",
        "y_val = y_train_num[50000:].reshape(10000,1)\n",
        "\n",
        "x_test = x_test_num.copy().reshape(10000,-1).astype(np.float32)/255\n",
        "y_test = y_test_num.copy().reshape(10000,1)\n",
        "\n",
        "print(x_train.shape) #shape (50000, 784)\n",
        "print(y_train.shape) #shape (50000, 1)\n",
        "\n",
        "print(x_val.shape)\n",
        "print(y_val.shape)\n",
        "\n",
        "print(x_test.shape) #shape (10000, 784)\n",
        "print(y_test.shape) #shape (10000, 1)\n",
        "\n"
      ],
      "metadata": {
        "colab": {
          "base_uri": "https://localhost:8080/"
        },
        "id": "wIR6EofIzgbc",
        "outputId": "563ada1a-a858-49c1-befd-757d6cd412e0"
      },
      "execution_count": 36,
      "outputs": [
        {
          "output_type": "stream",
          "name": "stdout",
          "text": [
            "(50000, 784)\n",
            "(50000, 1)\n",
            "(10000, 784)\n",
            "(10000, 1)\n",
            "(10000, 784)\n",
            "(10000, 1)\n"
          ]
        }
      ]
    },
    {
      "cell_type": "markdown",
      "source": [
        "Each input data to our model will have a shape of 784, the output layer will have 10 neurons."
      ],
      "metadata": {
        "id": "p8g15Cae2ehG"
      }
    },
    {
      "cell_type": "markdown",
      "source": [
        "Our activation function will be ReLU"
      ],
      "metadata": {
        "id": "SZSJR1lH3aDw"
      }
    },
    {
      "cell_type": "markdown",
      "source": [
        "We will not input the 50,000 data points all at once. Instead, it is more efficien if we use mini batches. For that we need to reduce the size of the amount of data that gets into the model."
      ],
      "metadata": {
        "id": "-APKTMOI3tRh"
      }
    },
    {
      "cell_type": "code",
      "source": [
        "def create_minibatches(mbSize,x,y,shuffle=True):\n",
        "  assert x.shape[0] == y.shape[0], 'Error in amount of samples'\n",
        "  totalData = x.shape[0]\n",
        "  if shuffle:\n",
        "    idxs = np.arange(totalData)\n",
        "    np.random.shuffle(idxs)\n",
        "    x = x[idxs]\n",
        "    y = y[idxs]\n",
        "  return ((x[i:i+mbSize],y[i:i+mbSize])for i in range(0,totalData,mbSize))"
      ],
      "metadata": {
        "id": "SSq8mih0249i"
      },
      "execution_count": 37,
      "outputs": []
    },
    {
      "cell_type": "markdown",
      "source": [
        "Init parameters (weight and height)"
      ],
      "metadata": {
        "id": "boom_LzX-yN0"
      }
    },
    {
      "cell_type": "code",
      "source": [
        "def init_parameters(inputSize, neurons):\n",
        "  '''\n",
        "  inputSize -> input elements, 784\n",
        "  neurons -> list[200,10] with amount of neurons by layer\n",
        "  '''\n",
        "  w1 = np.random.randn(neurons[0],inputSize) * 0.001 #Will return a list of numbers between 0 and 0.001\n",
        "  b1 = np.zeros((neurons[0],1))\n",
        "\n",
        "  w2 = np.random.randn(neurons[1],neurons[0]) * 0.001\n",
        "  b2 = np.zeros((neurons[1],1))\n",
        "  return {'w1':w1,'b1':b1,'w2':w2,'b2':b2}\n",
        "\n",
        "parameters = init_parameters(28*28,[200,10])"
      ],
      "metadata": {
        "id": "PnIIiBHg-zxy"
      },
      "execution_count": 41,
      "outputs": []
    },
    {
      "cell_type": "markdown",
      "source": [],
      "metadata": {
        "id": "O0vdBwXlBEAR"
      }
    },
    {
      "cell_type": "code",
      "source": [
        "def relu(x):\n",
        "  return np.maximum(0,x)"
      ],
      "metadata": {
        "id": "9cTD4i-QBE59"
      },
      "execution_count": 42,
      "outputs": []
    },
    {
      "cell_type": "code",
      "source": [
        "def scores(x,parameters,activationFunction):\n",
        "  z1 = parameters['w1'] @ x +parameters['b1']\n",
        "  a1 = activationFunction(z1) #Activation function output\n",
        "  z2 = parameters['w2'] @ a1 + parameters['b2']\n",
        "\n",
        "  return z2,z1,a1\n",
        "\n",
        "scores, z1,a1 = scores(x_train[:64].T,parameters,relu)"
      ],
      "metadata": {
        "id": "AcioYQ8lBTBG"
      },
      "execution_count": 43,
      "outputs": []
    },
    {
      "cell_type": "code",
      "source": [
        "def softmax(x):\n",
        "  exp_scores = np.exp(x)\n",
        "  sum_exp_scores = np.sum(exp_scores,axis=0)\n",
        "  probs = exp_scores/sum_exp_scores\n",
        "  return probs\n",
        "\n",
        "def x_entropy(scores,y,batch_size=64):\n",
        "  probs = softmax(scores)\n",
        "  y_hat = probs[y.squeeze(),np.arange(batch_size)]\n",
        "  cost = np.sum(-np.log(y_hat))/batch_size\n",
        "  return probs, cost\n",
        "\n",
        "\n",
        "y_train.squeeze()"
      ],
      "metadata": {
        "id": "YgyJ_8wFDIzf"
      },
      "execution_count": null,
      "outputs": []
    }
  ]
}